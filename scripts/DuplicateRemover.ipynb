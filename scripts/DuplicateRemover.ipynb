{
 "cells": [
  {
   "cell_type": "code",
   "execution_count": 2,
   "id": "154cd1eb-3684-4ec6-b7f8-6d1c4f9596c7",
   "metadata": {},
   "outputs": [],
   "source": [
    "import os\n",
    "import hashlib"
   ]
  },
  {
   "cell_type": "code",
   "execution_count": 3,
   "id": "d29cfd4c-6224-4bac-b73b-38eb32732d82",
   "metadata": {},
   "outputs": [],
   "source": [
    "def get_hash(file_path):\n",
    "    hasher = hashlib.md5()\n",
    "    with open(file_path, 'rb') as file:\n",
    "        buf = file.read()\n",
    "        hasher.update(buf)\n",
    "    return hasher.hexdigest()\n",
    "\n",
    "def remove_duplicates(directory):\n",
    "    file_hashes = {}\n",
    "    for filename in os.listdir(directory):\n",
    "        file_path = os.path.join(directory, filename)\n",
    "        if os.path.isfile(file_path):\n",
    "            file_hash = get_hash(file_path)\n",
    "            if file_hash in file_hashes:\n",
    "                os.remove(file_path)\n",
    "                print(f'Removed duplicate file: {file_path}')\n",
    "            else:\n",
    "                file_hashes[file_hash] = file_path\n"
   ]
  },
  {
   "cell_type": "code",
   "execution_count": 7,
   "id": "ce1ddb50-8b72-4826-87ed-223eb09609ec",
   "metadata": {},
   "outputs": [],
   "source": [
    "# Replace 'your_directory_path' with the path of the directory you want to check\n",
    "file_path1 = r'Screened\\\\With\\\\'\n",
    "\n",
    "remove_duplicates(file_path1)\n"
   ]
  },
  {
   "cell_type": "code",
   "execution_count": 8,
   "id": "c614d9de-eafc-42a3-99b7-04649f536fc1",
   "metadata": {},
   "outputs": [],
   "source": [
    "file_path2 = r'Screened\\\\Without\\\\'\n",
    "\n",
    "remove_duplicates(file_path2)"
   ]
  },
  {
   "cell_type": "code",
   "execution_count": null,
   "id": "876d3929-6a1b-4e6b-9bc1-cded1b4b5b51",
   "metadata": {},
   "outputs": [],
   "source": [
    "os.listdir(file_path1)"
   ]
  },
  {
   "cell_type": "code",
   "execution_count": null,
   "id": "f1c2714e-e18b-4708-bfb6-ff6543897775",
   "metadata": {},
   "outputs": [],
   "source": []
  }
 ],
 "metadata": {
  "kernelspec": {
   "display_name": "Python 3 (ipykernel)",
   "language": "python",
   "name": "python3"
  },
  "language_info": {
   "codemirror_mode": {
    "name": "ipython",
    "version": 3
   },
   "file_extension": ".py",
   "mimetype": "text/x-python",
   "name": "python",
   "nbconvert_exporter": "python",
   "pygments_lexer": "ipython3",
   "version": "3.11.6"
  }
 },
 "nbformat": 4,
 "nbformat_minor": 5
}
