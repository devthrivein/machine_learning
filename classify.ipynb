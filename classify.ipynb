{
  "nbformat": 4,
  "nbformat_minor": 0,
  "metadata": {
    "colab": {
      "provenance": []
    },
    "kernelspec": {
      "name": "python3",
      "display_name": "Python 3"
    },
    "language_info": {
      "name": "python"
    }
  },
  "cells": [
    {
      "cell_type": "code",
      "execution_count": null,
      "metadata": {
        "id": "WcfzlxzLDdmp"
      },
      "outputs": [],
      "source": [
        "import tensorflow as tf\n",
        "from tensorflow.keras.utils import load_img, img_to_array\n",
        "import numpy as np\n",
        "import matplotlib.pyplot as plt\n",
        "\n",
        "def classify(input_shape, model, image_path):\n",
        "\n",
        "\n",
        "    img = load_img(image_path, target_size=input_shape)\n",
        "    x = img_to_array(img)\n",
        "    x = np.expand_dims(x, axis=0)\n",
        "\n",
        "    images = np.vstack([x])\n",
        "    classes = model.predict(images, batch_size=2)\n",
        "\n",
        "    classes_outputs = ['Image has both banner and logo', 'Image has either banner or logo', 'Image has no banner or logo']\n",
        "    for i in range(len(classes)):\n",
        "      index = np.where(classes[i] == 1)[0][0]\n",
        "      plt.imshow(img)\n",
        "      plt.show()\n",
        "      return classes_outputs[index]"
      ]
    },
    {
      "cell_type": "code",
      "source": [
        "# Edit variables below\n",
        "model_path = r''\n",
        "input_shape = (299, 299)\n",
        "image_path = r''"
      ],
      "metadata": {
        "id": "is0HfbGdMnFF"
      },
      "execution_count": null,
      "outputs": []
    },
    {
      "cell_type": "code",
      "source": [
        "model = tf.keras.models.load_model(model_path)"
      ],
      "metadata": {
        "id": "O7xMlH_uMk2F"
      },
      "execution_count": null,
      "outputs": []
    },
    {
      "cell_type": "code",
      "source": [
        "# Run inference\n",
        "print(classify(input_shape, model, image_path))"
      ],
      "metadata": {
        "id": "LI8EoxdGLCTo"
      },
      "execution_count": null,
      "outputs": []
    }
  ]
}